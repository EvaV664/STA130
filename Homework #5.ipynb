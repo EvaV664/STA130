{
 "cells": [
  {
   "cell_type": "markdown",
   "id": "4c289043",
   "metadata": {},
   "source": [
    "Question #1:\n",
    "\n",
    "What is the key factor that makes the difference between ideas that can, and cannot be examined and tested statistically?\n",
    "- The key factor that differentiates ideas that can be examined and tested statistically from those that cannot is whether they are measurable. For an idea to be tested statistically, it must involve variables that can be quantified or measured in some way. This means that the idea should generate data that can be represented numerically, allowing for statistical analysis like calculating averages, variances, or probabilities. We must be able to formulate a null hypothesis.\n",
    "\n",
    "What would you describe is the key \"criteria\" defining what a good null hypothesis is?\n",
    "- A good null hypothesis must be testable, meaning it can be evaluated using statistical analysis of empirical data. It should also be specific about the population parameter it addresses. This specificity is crucial because it forms the basis for simulating data under the assumption that the null hypothesis is true, allowing for the calculation of p-values. Also, a good null hypothesis should be directly relevant to the underlying research question.\n",
    "\n",
    "What is the difference between a null hypothesis and an alternative hypothesis in the context of hypothesis testing?\n",
    "- The null hypothesis (H₀) proposes no effect or difference in a population parameter and serves as the baseline for statistical testing. It's testable, specific, simple, and relevant. Researchers test H₀ to find evidence against it, but failing to reject it doesn’t prove it true—only that there's insufficient evidence to reject it.\n",
    "- The alternative hypothesis (H₁) states that the null hypothesis is false, implying the possibility of an effect or difference. It’s used when data strongly contradict the null hypothesis. Expressed as H₁: H₀ is false, it is less specific than the null hypothesis. Rejecting H₀ doesn’t prove H₁ true, only that the data are unlikely under H₀."
   ]
  },
  {
   "cell_type": "markdown",
   "id": "079cd5a2",
   "metadata": {},
   "source": [
    "Question #2:\n",
    "\n",
    "In the context of hypothesis testing, the sentence is emphasizing that the results of a test are about the population, not just the sample. When we conduct a hypothesis test, we're testing whether the population mean (μ) is equal to the hypothesized value (μ₀) based on the sample's mean (x̄). Even though the test uses the sample's data, the conclusion applies to the population as a whole. This is because the sample is just a small part of the whole group, and we use it to make educated guesses (inferences) about the larger population.\n",
    "\n",
    "\n",
    "Link of interactive discussion with ChatGPT: https://chatgpt.com/share/67048cd4-3800-8002-b886-340ec300aa48\n",
    "\n",
    "\n",
    "Summary of session:\n",
    "- You asked for an explanation of a hypothesis test sentence, focusing on population parameters versus sample statistics.\n",
    "- I clarified the distinction between x̄ (sample average), μ (population average), and μ₀ (hypothesized population average), explaining that hypothesis tests aim to make conclusions about the population.\n",
    "- You then asked why hypothesis tests focus on the population, and I explained that while we collect data from samples, the test’s conclusions are meant to apply to the population as a whole."
   ]
  },
  {
   "cell_type": "markdown",
   "id": "01913947",
   "metadata": {},
   "source": [
    "Question #3:\n",
    "\n",
    "We \"imagine a world where the null hypothesis is true\" when calculating a p-value because when calculating a p-value, we want to know how surprising the observed data is if the null hypothesis were true. In other words, we're asking: \"If the null hypothesis were correct, what’s the chance we would see data as extreme as what we’ve observed (or more extreme)?\" If the p-value is very small, it means the observed data is quite surprising under the null hypothesis, suggesting the null hypothesis might not be true. If the p-value is large, it means the data is not surprising, and the null hypothesis could still be reasonable."
   ]
  },
  {
   "cell_type": "markdown",
   "id": "9f1633b6",
   "metadata": {},
   "source": [
    "Question #4:\n",
    "\n",
    "Hypothesis testing is the process of evaluating whether the evidence from data supports or contradicts a default assumption (called the null hypothesis) about a population or system. The null hypothesis typically represents the idea that there is no effect between variables.\n",
    "\n",
    "The p-value is a number that summarizes how likely it is to observe the data we collected, or something more extreme, assuming the null hypothesis is true. A smaller p-value means that the observed data is less likely to occur if the null hypothesis were correct. In other words, the smaller the p-value, the more the data contradicts the null hypothesis, making it seem less plausible or \"ridiculous.\"\n",
    "\n",
    "If the p-value is very small, we may decide to reject the null hypothesis and consider an alternative hypothesis (the alternative hypothesis represents a new explanation or effect that might be present)."
   ]
  },
  {
   "cell_type": "markdown",
   "id": "a68b640b",
   "metadata": {},
   "source": [
    "Question #5:\n",
    "\n",
    "Step 1: Understanding the Problem Context\n",
    "\n",
    "- To simulate a p-value using a \"50/50 coin-flipping\" model for the null hypothesis, we assume that there is no preference for tilting heads to the right or left. In this model, the probability of tilting the head in either direction is 0.5. The simulation lets us see what would happen if couples randomly tilted their heads, assuming no directional preference.\n",
    "- In hypothesis testing terms, you're comparing two possibilities:\n",
    "    1. Null hypothesis (the starting assumption): There is no inherent tendency for people to tilt their heads to the right. It’s just as likely to tilt to the left as it is to the right, like flipping a fair coin.\n",
    "    2. Alternative hypothesis: People do have a tendency to tilt their heads to the right.\n",
    "\n",
    "Step 2: Imagining a World Where the Null Hypothesis is True\n",
    "\n",
    "- In this world, every couple is like a pair of coins being flipped—each flip having a 50/50 chance of landing heads (right tilt) or tails (left tilt). If the null hypothesis holds, 50% of couples should tilt their heads to the right purely by chance.\n",
    "- To test this, we need to simulate thousands of \"coin flips\" to see how many times 124 couples end up tilting their heads to the right. By doing this, we’re recreating the world described by the null hypothesis, and we’ll compare its results to what we actually observed in Güntürkün’s study.\n",
    "\n",
    "Step 3: Running the Simulation:"
   ]
  },
  {
   "cell_type": "code",
   "execution_count": 6,
   "id": "b488455c",
   "metadata": {},
   "outputs": [
    {
     "data": {
      "text/plain": [
       "0.0009"
      ]
     },
     "execution_count": 6,
     "metadata": {},
     "output_type": "execute_result"
    }
   ],
   "source": [
    "import numpy as np\n",
    "\n",
    "# Set random seed for reproducibility\n",
    "np.random.seed(130)\n",
    "\n",
    "# Parameters\n",
    "n_couples = 124  # Total number of couples\n",
    "observed_right_tilts = 80  # Observed number of right tilts\n",
    "prob_right_tilt = 0.5  # Assumed probability under H0\n",
    "n_simulations = 10000  # Number of simulations\n",
    "\n",
    "# Simulating the number of right tilts in each simulation\n",
    "simulated_right_tilts = np.random.binomial(n_couples, prob_right_tilt, n_simulations)\n",
    "\n",
    "# Calculate the p-value\n",
    "p_value = np.mean(simulated_right_tilts >= observed_right_tilts)\n",
    "\n",
    "# Output the p-value\n",
    "p_value"
   ]
  },
  {
   "cell_type": "markdown",
   "id": "3c0b2c5d",
   "metadata": {},
   "source": [
    "Step 4: Interpreting the Evidence\n",
    "\n",
    "- The p value is 0.0009 which is ≤ 0.001. This mean we have very strong evidence against the null hypothesis.\n",
    "- This suggests that couples likely have a natural tendency to tilt their heads to the right while kissing, and this behavior is not just random.\n",
    "\n",
    "\n",
    "Link of interactive discussion with ChatGPT: https://chatgpt.com/share/670af915-185c-8002-8933-6a2cc8f3b4fc\n",
    "\n",
    "Summary of session:\n",
    "1. Hypothesis Testing:\n",
    "    - We discussed the null hypothesis (no head tilt preference) and the alternative hypothesis (preference for right head tilting).\n",
    "    - The p-value is a measure of how compatible the observed data is with the null hypothesis.\n",
    "2. Simulating a p-value:\n",
    "    - A simulation was conducted using a \"50/50 coin-flipping\" model to simulate 10,000 trials for 124 couples to determine head tilt direction.\n",
    "    - Python code was provided to run the simulation and calculate the p-value.\n",
    "3. Result Interpretation:\n",
    "    - The obtained p-value was 0.0009, indicating very strong evidence against the null hypothesis.\n",
    "    - This suggests a significant tendency for couples to tilt their heads to the right while kissing.\n",
    "4. Conclusion:\n",
    "    - The data strongly support rejecting the null hypothesis in favor of the alternative hypothesis, indicating a right head tilt preference."
   ]
  },
  {
   "cell_type": "markdown",
   "id": "198c1b17",
   "metadata": {},
   "source": [
    "Question #6:\n",
    "\n",
    "- A p-value cannot be used to definitively prove the null or alternative hypothesis, regardless of its value. A smaller p-value does not definitively prove that the null hypothesis is false, it only indicates stronger evidence against it. There remains a possibility of error, and the context of the study must be considered to interpret the significance accurately.\n",
    "\n",
    "- No, it is not possible to definitively prove that Fido is innocent or guilty using a p-value. A p-value can only provide evidence against a null hypothesis (such as Fido being innocent or guilty), but it does not offer absolute proof of either state. There will always be a possibility of error in statistical testing."
   ]
  },
  {
   "cell_type": "markdown",
   "id": "268ce056",
   "metadata": {},
   "source": [
    "Question #7:\n",
    "\n",
    "Code Modification:\n",
    "\n",
    "- Changed the comparison for extreme statistics from absolute differences (two-tailed) to a direct comparison (one-tailed) focused solely on whether simulated statistics are greater than or equal to the observed statistic.\n",
    "\n",
    "Test Type:\n",
    "\n",
    "- One-Tailed Test: Tests if the observed statistic is significantly greater than the hypothesized value, focusing on one direction (improvement).\n",
    "- Two-Tailed Test: Tests if the observed statistic is significantly different (greater or lesser) from the hypothesized value, considering both directions.\n",
    "\n",
    "Interpretation:\n",
    "\n",
    "- One-tailed tests assess the probability of observing extreme results only in the specified direction, while two-tailed tests assess extreme results in both directions.\n",
    "\n",
    "P-value Expectation:\n",
    "\n",
    "- One-tailed tests generally yield smaller or equal p-values compared to two-tailed tests when assessing the same hypothesis, as the significance level is concentrated in one direction, making it easier to find statistical significance.\n",
    "\n",
    "Choice of Test:\n",
    "\n",
    "- The selection between one-tailed and two-tailed tests should depend on the research hypothesis and study design rather than solely on expected p-value outcomes."
   ]
  },
  {
   "cell_type": "code",
   "execution_count": 9,
   "id": "43b3be0a",
   "metadata": {},
   "outputs": [
    {
     "name": "stdout",
     "output_type": "stream",
     "text": [
      "    HealthScoreChange  > 0 ?\n",
      "0            1.764052   True\n",
      "1            0.400157   True\n",
      "2            0.978738   True\n",
      "3            2.240893   True\n",
      "4            1.867558   True\n",
      "..                ...    ...\n",
      "95           0.706573   True\n",
      "96           0.010500   True\n",
      "97           1.785870   True\n",
      "98           0.126912   True\n",
      "99           0.401989   True\n",
      "\n",
      "[100 rows x 2 columns]\n",
      "Which simulated statistics are \"as or more extreme\"\n",
      "than the observed statistic? (of 0.55)\n",
      "      (Simulated) Statistic  >= 0.55 ?  \"as or more extreme\"?\n",
      "0                      0.55  >= 0.55 ?                   True\n",
      "1                      0.46  >= 0.55 ?                  False\n",
      "2                      0.53  >= 0.55 ?                  False\n",
      "3                      0.44  >= 0.55 ?                  False\n",
      "4                      0.46  >= 0.55 ?                  False\n",
      "...                     ...        ...                    ...\n",
      "9995                   0.56  >= 0.55 ?                   True\n",
      "9996                   0.55  >= 0.55 ?                   True\n",
      "9997                   0.57  >= 0.55 ?                   True\n",
      "9998                   0.49  >= 0.55 ?                  False\n",
      "9999                   0.45  >= 0.55 ?                  False\n",
      "\n",
      "[10000 rows x 3 columns]\n"
     ]
    }
   ],
   "source": [
    "import numpy as np\n",
    "import pandas as pd\n",
    "\n",
    "# Simulate patient data for demonstration purposes (you should use your actual patient_data)\n",
    "# Example patient data with HealthScoreChange as a random sample\n",
    "np.random.seed(0)\n",
    "patient_data = pd.DataFrame({'HealthScoreChange': np.random.normal(0, 1, 100)})\n",
    "\n",
    "# Display the health score change and whether it is greater than 0\n",
    "print(pd.DataFrame({'HealthScoreChange': patient_data['HealthScoreChange'],\n",
    "                    '> 0 ?': patient_data['HealthScoreChange'] > 0}))\n",
    "\n",
    "# Random sign change for simulating improvements\n",
    "random_difference_sign = np.random.choice([-1, 1], size=len(patient_data))\n",
    "pd.DataFrame({'HealthScoreChange': random_difference_sign * patient_data['HealthScoreChange'].abs(),\n",
    "              '> 0 ?': (random_difference_sign * patient_data['HealthScoreChange']) > 0})\n",
    "\n",
    "np.random.seed(1)  # make simulation reproducible\n",
    "number_of_simulations = 10000  # number of simulations\n",
    "n_size = len(patient_data)  # number of patients\n",
    "IncreaseProportionSimulations_underH0random = np.zeros(number_of_simulations)\n",
    "\n",
    "# Generate \"random improvement\" proportions assuming H0 is true\n",
    "for i in range(number_of_simulations):\n",
    "    random_improvement = np.random.choice([0, 1], size=len(patient_data), replace=True)\n",
    "    IncreaseProportionSimulations_underH0random[i] = random_improvement.mean()\n",
    "\n",
    "# Set the hypothesized parameter value under H0\n",
    "population_parameter_value_under_H0 = 0.5\n",
    "\n",
    "# Calculate the observed statistic (proportion of patients with positive health score change)\n",
    "observed_statistic = (patient_data.HealthScoreChange > 0).mean()\n",
    "simulated_statistics = IncreaseProportionSimulations_underH0random\n",
    "\n",
    "# For one-sided test, check if simulated statistics are greater than or equal to the observed statistic\n",
    "SimStats_as_or_more_extreme_than_ObsStat = \\\n",
    "    simulated_statistics >= observed_statistic\n",
    "\n",
    "print('''Which simulated statistics are \"as or more extreme\"\n",
    "than the observed statistic? (of ''', observed_statistic, ')', sep=\"\")\n",
    "\n",
    "# Create a DataFrame to display the results\n",
    "results_df = pd.DataFrame({\n",
    "    '(Simulated) Statistic': simulated_statistics,\n",
    "    '>= ' + str(observed_statistic) + ' ?': ['>= ' + str(observed_statistic) + ' ?'] * number_of_simulations,\n",
    "    '\"as or more extreme\"?': SimStats_as_or_more_extreme_than_ObsStat\n",
    "})\n",
    "\n",
    "print(results_df)"
   ]
  },
  {
   "cell_type": "markdown",
   "id": "48b72185",
   "metadata": {},
   "source": [
    "Link of interactive discussion with ChatGPT: https://chatgpt.com/share/670afbe2-2e5c-8002-a1b8-527ff21dbf3e\n",
    "\n",
    "Summary of session:\n",
    "\n",
    "- Code Modification: Adjusted the code to compute a p-value for a one-tailed hypothesis test by changing the condition to focus only on whether simulated statistics are greater than or equal to the observed statistic.\n",
    "- Test Interpretation:\n",
    "    - One-Tailed Test: Tests if the observed statistic is significantly greater than a hypothesized value, focusing on one direction (improvement).\n",
    "    - Two-Tailed Test: Tests if the observed statistic is significantly different (either greater or lesser) from the hypothesized value, considering both directions.\n",
    "- P-value Expectations: One-tailed tests generally yield smaller or equal p-values compared to two-tailed tests when assessing the same hypothesis, as significance is concentrated in one direction.\n",
    "- Choice of Test: The decision to use a one-tailed or two-tailed test should be based on the research hypothesis and study design, rather than just on expected p-value outcomes."
   ]
  },
  {
   "cell_type": "markdown",
   "id": "6acac97f",
   "metadata": {},
   "source": [
    "Question #8:\n",
    "\n",
    "Statistical Analysis of Fisher's Tea Experiment:\n",
    "\n",
    "Problem Introduction\n",
    "- This report analyzes an experiment inspired by Ronald Fisher and Dr. Muriel Bristol's tea experiment. It aims to determine if students can accurately identify the order of milk and tea poured, similar to Bristol's ability. We collected data from 80 STA130 students, with 49 correctly identifying the pouring order.\n",
    "\n",
    "Relationship between This Experiment and the Original with Fisher and Bristol\n",
    "- Fisher's original experiment used 8 tea cups and one individual (Bristol) to identify pouring order. In contrast, our study involves 80 students to evaluate a broader population's ability to distinguish between pouring methods. While the original experiment was personalized, our analysis focuses on students' abilities, making it relevant to statistical testing in a classroom setting.\n",
    "\n",
    "Statements of the Null Hypothesis and Alternative Hypothesis\n",
    "1. Null Hypothesis (H0)\n",
    "    - Formal Version: The proportion of students who can correctly identify the pouring order is equal to 0.5 (random guessing).\n",
    "    - Informal Interpretive Statement: There is no difference in the ability to identify the pouring order; any correct identifications are due to chance.\n",
    "2. Alternative Hypothesis (Ha)\n",
    "    - Formal Version: The proportion of students who can correctly identify the pouring order is not equal to 0.5 (indicating a significant ability to distinguish).\n",
    "    \n",
    "    \n",
    "Quantitative Analysis\n",
    "- Observed Test Statistic:\n",
    "    - The observed proportion of correct identifications is calculated as follows:\n",
    "- Standard Error Calculation:\n",
    "    - The standard error (SE) for the proportion is calculated using the formula:\n",
    "- Z-score Calculation:\n",
    "    - The Z-score is computed to assess how far our observed proportion is from the null hypothesis proportion.\n",
    "- P-value Calculation:\n",
    "    - The p-value is found using the Z-score, assessing the likelihood of observing such a test statistic under the null hypothesis."
   ]
  },
  {
   "cell_type": "code",
   "execution_count": 17,
   "id": "7eabdd1b",
   "metadata": {
    "scrolled": true
   },
   "outputs": [
    {
     "name": "stdout",
     "output_type": "stream",
     "text": [
      "Observed Proportion (p_hat): 0.6125\n",
      "Standard Error (SE): 0.05590169943749474\n",
      "Z-score: 2.0124611797498115\n",
      "P-value: 0.044171344908442434\n"
     ]
    },
    {
     "data": {
      "image/png": "[encoded data removed]",
      "text/plain": [
       "<Figure size 1000x600 with 1 Axes>"
      ]
     },
     "metadata": {},
     "output_type": "display_data"
    }
   ],
   "source": [
    "import numpy as np\n",
    "import scipy.stats as stats\n",
    "import matplotlib.pyplot as plt\n",
    "\n",
    "# Sample data\n",
    "n_students = 80\n",
    "n_correct = 49\n",
    "\n",
    "# Observed proportion\n",
    "p_hat = n_correct / n_students\n",
    "\n",
    "# Null hypothesis proportion\n",
    "p_0 = 0.5\n",
    "\n",
    "# Standard error\n",
    "SE = np.sqrt(p_0 * (1 - p_0) / n_students)\n",
    "\n",
    "# Z-score\n",
    "Z = (p_hat - p_0) / SE\n",
    "\n",
    "# P-value (two-tailed)\n",
    "p_value = 2 * (1 - stats.norm.cdf(Z))\n",
    "\n",
    "# Output results\n",
    "print(f\"Observed Proportion (p_hat): {p_hat}\")\n",
    "print(f\"Standard Error (SE): {SE}\")\n",
    "print(f\"Z-score: {Z}\")\n",
    "print(f\"P-value: {p_value}\")\n",
    "\n",
    "# Visualization\n",
    "# Create a normal distribution for the null hypothesis\n",
    "x = np.linspace(-4, 4, 1000)\n",
    "y = stats.norm.pdf(x)\n",
    "\n",
    "# Plot the normal distribution\n",
    "plt.figure(figsize=(10, 6))\n",
    "plt.plot(x, y, label='Standard Normal Distribution', color='blue')\n",
    "plt.axvline(Z, color='red', linestyle='--', label='Observed Z-score')\n",
    "plt.fill_between(x, y, where=(x >= Z), color='red', alpha=0.5, label='Area = p-value')\n",
    "plt.title('Z-score and P-value Visualization')\n",
    "plt.xlabel('Z-score')\n",
    "plt.ylabel('Probability Density')\n",
    "plt.legend()\n",
    "plt.grid()\n",
    "\n",
    "# Save the plot as a PNG image\n",
    "plt.savefig('z_score_visualization.png', format='png')\n",
    "\n",
    "# Show the plot\n",
    "plt.show()"
   ]
  },
  {
   "cell_type": "markdown",
   "id": "2ea3bf9b",
   "metadata": {},
   "source": [
    "Findings and Discussion\n",
    "- The calculated p-value is approximately 0.044. This p-value helps us determine whether to reject the null hypothesis. Since p < 0.05, we reject the null hypothesis and conclude that there is evidence that the students can distinguish between the pouring order.\n",
    "\n",
    "Link of interactive discussion with ChatGPT: https://chatgpt.com/share/670afbe2-2e5c-8002-a1b8-527ff21dbf3e\n",
    "\n",
    "Summary of session:\n",
    "- Initial Request: You provided details about a hypothesis test and asked for help modifying code to compute a one-sided p-value instead of a two-sided one.\n",
    "\n",
    "- Discussion of Code Changes: We discussed how the key change involved adjusting the calculation to reflect a one-tailed test. This change affected the interpretation of the p-value, making it appropriate for a one-sided hypothesis test, which typically results in a smaller p-value than a two-sided test when the effect is in the expected direction.\n",
    "\n",
    "- P-Value Calculation and Visualization: You calculated the p-value (0.044) for the test and asked for a visualization. I provided code that visualizes the Z-score and p-value on a normal distribution and saves it as a PNG file.\n",
    "\n",
    "- Error Handling: You encountered an error in the code, and we troubleshot it together, focusing on ensuring the code ran correctly and displayed the plot in PNG format."
   ]
  },
  {
   "cell_type": "markdown",
   "id": "a9cb8967",
   "metadata": {},
   "source": [
    "Question #9: Yes"
   ]
  }
 ],
 "metadata": {
  "kernelspec": {
   "display_name": "Python 3 (ipykernel)",
   "language": "python",
   "name": "python3"
  },
  "language_info": {
   "codemirror_mode": {
    "name": "ipython",
    "version": 3
   },
   "file_extension": ".py",
   "mimetype": "text/x-python",
   "name": "python",
   "nbconvert_exporter": "python",
   "pygments_lexer": "ipython3",
   "version": "3.11.6"
  }
 },
 "nbformat": 4,
 "nbformat_minor": 5
}
