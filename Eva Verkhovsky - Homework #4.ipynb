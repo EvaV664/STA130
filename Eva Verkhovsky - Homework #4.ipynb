{
 "cells": [
  {
   "cell_type": "markdown",
   "id": "5a134d11",
   "metadata": {},
   "source": [
    "Question #1:"
   ]
  },
  {
   "cell_type": "markdown",
   "id": "defc5684",
   "metadata": {},
   "source": [
    "What is the difference between the \"standard error of the mean\" and the \"standard deviation\" of the original data? What distinct ideas do each of these capture?\n",
    "\n",
    "- The standard error of the mean is a measure of how much the sample mean is expected to vary from the true population mean.\n",
    "    - As the sample size increases, the standard error of the mean decreases, indicates less variability in the sample means and a more precise estimate of the population mean.\n",
    "    - The standard error of the mean focuses on the variability of sample means (not individual data points) when multiple samples are taken from the population.\n",
    "- The standard deviation measures the spread or variability of individual data points in the sample around the sample mean.\n",
    "    - It shows how much the values in the original dataset deviate from the mean on average.\n",
    "    - While the standard deviation represents variability within a single sample, it does not account for how well the sample mean estimates the population mean.\n",
    "- The standard error of the mean depends on the SD of the original data. If the data is highly variable (high standard deviation), the standard error of the mean will be larger unless the sample size n is large.\n",
    "- Use Cases:\n",
    "    - Use standard deviation when you want to describe the spread of individual data points.\n",
    "    - Use standard error when you want to infer how accurately the sample mean represents the population mean."
   ]
  },
  {
   "cell_type": "markdown",
   "id": "1825b0d9",
   "metadata": {},
   "source": [
    "Link interactive conversation with ChatGPT: https://chatgpt.com/share/66fb069e-8668-8002-87c4-704592945047\n",
    "\n",
    "Summary of Conversation with ChatGPT:\n",
    "- You asked about the difference between standard error of the mean (SEM) and standard deviation (SD). I confirmed your ideas were correct and suggested refinements.\n",
    "- Key Points:\n",
    "    - Standard error of the mean: Measures how accurately the sample mean estimates the population mean. It decreases as sample size increases \n",
    "    - Standard deviation: Measures the spread of individual data points from the mean in a dataset.\n",
    "- Distinction: SD captures variability within a sample, while SEM reflects the precision of the sample mean."
   ]
  },
  {
   "cell_type": "markdown",
   "id": "45baab98",
   "metadata": {},
   "source": [
    "Question #2:"
   ]
  },
  {
   "cell_type": "markdown",
   "id": "bcf63101",
   "metadata": {},
   "source": [
    "How can we use the \"standard error of the mean\" to create a 95% confidence interval which \"covers 95% of the bootstrapped sample means\"? \n",
    "1. The first step is bootstrapping the Sample Means\n",
    "    - Generate multiple bootstrapped samples by randomly sampling with replacement from the original dataset.\n",
    "    - For each bootstrapped sample, calculate the sample mean. After many repetitions, you will have a distribution of bootstrapped sample means.\n",
    "2. The second step is to calculate the Standard Error of the Mean\n",
    "3. The third step is to calculate the 95% confidence interval using the Standard Error of the Mean\n",
    "    - Confidence interval = mean +- z * Standard Error of the Mean\n",
    "    - This will give a range of values that likely contains the true population mean based on our sample.\n",
    "\n",
    "This means that if I was to repeat the bootstrapping process many times, approximately 95% of the calculated confidence intervals would contain the true population mean."
   ]
  },
  {
   "cell_type": "markdown",
   "id": "7912a01f",
   "metadata": {},
   "source": [
    "Link interactive conversation with ChatGPT: https://chatgpt.com/share/66fb46d0-e8b4-8002-babb-a45937ffde5b\n",
    "\n",
    "Summary of Conversation with ChatGPT:\n",
    "- Bootstrapping Process: We discussed generating bootstrapped samples from an original dataset to calculate sample means.\n",
    "- Standard Error of the Mean (SEM): SEM was defined as the standard deviation of the bootstrapped sample means, quantifying the variability of the sample mean.\n",
    "- Confidence Interval Calculation: The 95% confidence interval was calculated using the formula:\n",
    "    - CI=mean of bootstrapped means±1.96×SEM\n",
    "- Interpretation: A 95% confidence interval indicates that we are 95% confident the true population mean lies within this range.\n",
    "- Python Code: I provided a Python code example that includes steps for generating bootstrapped sample means, calculating SEM, computing the confidence interval, and visualizing the results."
   ]
  },
  {
   "cell_type": "markdown",
   "id": "4aeb5fca",
   "metadata": {},
   "source": [
    "Question #3:"
   ]
  },
  {
   "cell_type": "markdown",
   "id": "d333d231",
   "metadata": {},
   "source": [
    "How do we create a 95% bootstrapped confidence interval using the bootstrapped means (without using their standard deviation to estimate the standard error of the mean)?\n",
    "- When you use the quantile method to create a confidence interval from bootstrapped sample means, you do not rely on the standard deviation of the sample means to estimate the standard error of the mean.\n",
    "- The quantile method uses the distribution created from bootstrapping to identify percentiles (e.g., 2.5th and 97.5th) for a specified confidence level (e.g., 95%).\n",
    "- The np.quantile(...) function in NumPy computes the specified quantiles of an array, which allows us to efficiently find the percentiles we need for our confidence interval.\n",
    "- Why use np.quantile(...)? Because it's efficiency! The function is optimized for performance, making it faster than sorting and manually calculating percentiles.\n"
   ]
  },
  {
   "cell_type": "markdown",
   "id": "ff8581c4",
   "metadata": {},
   "source": [
    "Link interactive conversation with ChatGPT: https://chatgpt.com/share/66fb4b96-2490-8002-baef-d36f2acb3301\n",
    "\n",
    "Summary of Conversation with ChatGPT:\n",
    "- 95% Bootstrapped Confidence Interval: You asked how to create a 95% bootstrapped confidence interval using bootstrapped means without using the standard error. I explained that you can use the np.quantile(...) function to find the 2.5th and 97.5th percentiles of the bootstrapped means.\n",
    "- Understanding Percentiles: You requested clarification on percentiles. I defined percentiles as values that divide a dataset into 100 equal parts and explained how to calculate them with an example.\n",
    "- Standard Error vs. Quantile Method: You inquired whether the quantile method involves the standard error. I clarified that the quantile method does not use standard deviation or standard error; it directly relies on the distribution of bootstrapped means."
   ]
  },
  {
   "cell_type": "markdown",
   "id": "a6c8a526",
   "metadata": {},
   "source": [
    "Question #4:"
   ]
  },
  {
   "cell_type": "code",
   "execution_count": 8,
   "id": "d6a1a0d8",
   "metadata": {},
   "outputs": [
    {
     "name": "stdout",
     "output_type": "stream",
     "text": [
      "95% Bootstrap Confidence Interval for the Population Mean: (48.05125413961492, 53.451727005957515)\n"
     ]
    }
   ],
   "source": [
    "import numpy as np\n",
    "import matplotlib.pyplot as plt\n",
    "\n",
    "# Step 1: Create a made-up sample data\n",
    "np.random.seed(130)  # Set seed for reproducibility\n",
    "sample_data = np.random.normal(loc=50, scale=10, size=30)  # Sample of 30 data points from a normal distribution\n",
    "\n",
    "# Step 2: Define the function to calculate the bootstrap confidence interval\n",
    "def bootstrap_confidence_interval(data, num_bootstraps=1000, confidence_level=0.95):\n",
    "    # Initialize an array to store the bootstrap sample means\n",
    "    bootstrap_means = np.zeros(num_bootstraps)\n",
    "\n",
    "    # Step 3: Generate bootstrap samples and compute the means\n",
    "    for i in range(num_bootstraps):\n",
    "        # Create a bootstrap sample by sampling with replacement\n",
    "        bootstrap_sample = np.random.choice(data, size=len(data), replace=True)\n",
    "        # Calculate the mean of the bootstrap sample\n",
    "        bootstrap_means[i] = np.mean(bootstrap_sample)\n",
    "\n",
    "    # Step 4: Calculate the lower and upper percentiles for the confidence interval\n",
    "    lower_bound = np.percentile(bootstrap_means, (1 - confidence_level) / 2 * 100)\n",
    "    upper_bound = np.percentile(bootstrap_means, (1 + confidence_level) / 2 * 100)\n",
    "\n",
    "    return lower_bound, upper_bound\n",
    "\n",
    "# Step 5: Calculate the 95% bootstrap confidence interval for the population mean\n",
    "mean_ci = bootstrap_confidence_interval(sample_data)\n",
    "print(f\"95% Bootstrap Confidence Interval for the Population Mean: {mean_ci}\")\n",
    "\n"
   ]
  },
  {
   "cell_type": "code",
   "execution_count": 10,
   "id": "9966ba79",
   "metadata": {},
   "outputs": [
    {
     "name": "stdout",
     "output_type": "stream",
     "text": [
      "\n",
      "To calculate a bootstrap confidence interval for the population median, you would need to make the following changes:\n",
      "\n",
      "1. Change the initialization of the array to store the bootstrap sample medians instead of means:\n",
      "   - Replace: bootstrap_means = np.zeros(num_bootstraps)\n",
      "   - With: bootstrap_medians = np.zeros(num_bootstraps)\n",
      "\n",
      "2. Change the computation of the statistic from the mean to the median:\n",
      "   - Replace: bootstrap_means[i] = np.mean(bootstrap_sample)\n",
      "   - With: bootstrap_medians[i] = np.median(bootstrap_sample)\n",
      "\n",
      "3. When returning the confidence interval, ensure to calculate the percentiles from the bootstrap_medians array instead of bootstrap_means:\n",
      "   - Adjust the bounds:\n",
      "     - lower_bound = np.percentile(bootstrap_medians, (1 - confidence_level) / 2 * 100)\n",
      "     - upper_bound = np.percentile(bootstrap_medians, (1 + confidence_level) / 2 * 100)\n",
      "\n",
      "Once you make these changes, the function will produce a bootstrap confidence interval for the population median instead of the mean.\n",
      "\n"
     ]
    }
   ],
   "source": [
    "# Comments on modifying the code for the population median:\n",
    "print(\n",
    "'''\n",
    "To calculate a bootstrap confidence interval for the population median, you would need to make the following changes:\n",
    "\n",
    "1. Change the initialization of the array to store the bootstrap sample medians instead of means:\n",
    "   - Replace: bootstrap_means = np.zeros(num_bootstraps)\n",
    "   - With: bootstrap_medians = np.zeros(num_bootstraps)\n",
    "\n",
    "2. Change the computation of the statistic from the mean to the median:\n",
    "   - Replace: bootstrap_means[i] = np.mean(bootstrap_sample)\n",
    "   - With: bootstrap_medians[i] = np.median(bootstrap_sample)\n",
    "\n",
    "3. When returning the confidence interval, ensure to calculate the percentiles from the bootstrap_medians array instead of bootstrap_means:\n",
    "   - Adjust the bounds:\n",
    "     - lower_bound = np.percentile(bootstrap_medians, (1 - confidence_level) / 2 * 100)\n",
    "     - upper_bound = np.percentile(bootstrap_medians, (1 + confidence_level) / 2 * 100)\n",
    "\n",
    "Once you make these changes, the function will produce a bootstrap confidence interval for the population median instead of the mean.\n",
    "''')"
   ]
  },
  {
   "cell_type": "markdown",
   "id": "1d3c5189",
   "metadata": {},
   "source": [
    "Link interactive conversation with ChatGPT: https://chatgpt.com/share/66fb4f5f-24fc-8002-acc8-49c5cb08c1c7\n",
    "\n",
    "Summary of Conversation with ChatGPT:\n",
    "- Bootstrap Confidence Interval Code: You requested a code snippet to produce a 95% bootstrap confidence interval for a population mean, along with comments explaining how to modify the code for calculating the median.\n",
    "- Code Revision: I provided the requested code, ensuring the comments clearly indicated the necessary changes to switch from calculating the mean to the median.\n",
    "- Comment Formatting Issue: You encountered a formatting issue where comments appeared with escape sequences when printed, despite being fine when printed as strings.\n",
    "- Final Code Structure: I clarified how to structure the comments properly using triple quotes and provided the complete code with the intended comments."
   ]
  },
  {
   "cell_type": "markdown",
   "id": "cd654ef8",
   "metadata": {},
   "source": [
    "Question #5:"
   ]
  },
  {
   "cell_type": "markdown",
   "id": "413e35b8",
   "metadata": {},
   "source": [
    "Why do we need to distinguish between the role of the popualation parameter and the sample sample statistic when it comes to confidence intervals?\n",
    "- Confidence intervals use the sample statistic to estimate the population parameter, providing a range where the parameter likely falls.\n",
    "- The sample statistic can vary from one sample to another due to random sampling. This variability must be accounted for when making inferences about the population parameter. Confidence intervals help quantify this uncertainty by providing a range based on the variability observed in the sample data.\n",
    "- The confidence level indicates how sure we are that the population parameter lies within the interval, influenced by sample size.\n",
    "- Recognizing the difference helps in making better decisions in fields like public health, economics, and social sciences based on sample data."
   ]
  },
  {
   "cell_type": "markdown",
   "id": "43375189",
   "metadata": {},
   "source": [
    "Link interactive conversation with ChatGPT: https://chatgpt.com/share/66fb5250-759c-8002-8a7b-ab97eb3b6b3d\n",
    "\n",
    "Summary of Conversation with ChatGPT:\n",
    "- Distinction Between Population Parameter and Sample Statistic:\n",
    "    - We discussed the importance of distinguishing between the population parameter (a fixed value describing the population) and the sample statistic (an estimate from a sample).\n",
    "    - Key points included the definitions of each, the role of sample statistics in estimating population parameters, the concept of sampling variability, the significance of confidence intervals for statistical inference, the level of confidence, and the implications for decision-making in various fields."
   ]
  },
  {
   "cell_type": "markdown",
   "id": "aa92f3e9",
   "metadata": {},
   "source": [
    "Question #6:"
   ]
  },
  {
   "cell_type": "markdown",
   "id": "ca4b7524",
   "metadata": {},
   "source": [
    "1. What is the process of bootstrapping?\n",
    "Bootstrapping is a way to estimate the  mean of a sample when you don’t have a lot of data. First you create new samples: You take your original sample and make many new samples by randomly picking data points from it. You can pick the same point more than once (sampling with replacement). Next, you need to calculate the mean for each of these samples. After this, you make a histogram of these means to show how they are spread out.\n",
    "\n",
    "2. What is the main purpose of bootstrapping?\n",
    "    - It helps determine how uncertain a sample statistic (like the mean) is.\n",
    "    - Bootstrapping provides a range of values where the true population parameter likely falls.\n",
    "    - It's useful when you have limited data and traditional methods may not be reliable.\n",
    "\n",
    "3. If you had a (hypothesized) guess about what the average of a population was, and you had a sample of size n from that population, how could you use bootstrapping to assess whether or not your (hypothesized) guess might be plausible?\n",
    "    - By generating bootstrap samples, calculating bootstrap means, and creating a distribution of those means, you can determine how many of the bootstrap means fall above or below your hypothesized average. You can also create a confidence interval from the bootstrap means. \n",
    "        - If the hypothesized average is within the confidence interval (e.g., the 2.5th and 97.5th percentiles), it suggests that your guess is plausible.\n",
    "        - If it falls outside this range, it indicates that your guess may not be supported by the sample data."
   ]
  },
  {
   "cell_type": "markdown",
   "id": "345518a7",
   "metadata": {},
   "source": [
    "Question #7:"
   ]
  },
  {
   "cell_type": "markdown",
   "id": "7d54ad81",
   "metadata": {},
   "source": [
    "Why does a confidence interval overlapping zero \"fail to reject the null hypothesis\" when the observed sample mean statistic itself is not zero? \n",
    "- If the confidence interval includes zero, it means it’s possible that the true average effect is zero. This means that the drug might not do anything at all.\n",
    "- Even if your sample mean (what you found from your test) is 0.5, the interval tells you that it’s still possible for the drug to have no effect (zero).\n",
    "- If we can’t rule out the possibility that the drug has no effect (because zero is in the interval), we say we \"fail to reject the null hypothesis.\"\n",
    "- We can only conclude that we fail to reject the null hypothesis, meaning we can't confidently say the drug has an effect.\n",
    "\n",
    "What would lead to the opposite conclusion in this context; namely, instead choosing \"to reject the null hypothesis\"?\n",
    "- This interval does not include zero, meaning it suggests that the true average effect of the drug is likely positive and above zero.\n",
    "- Since the entire confidence interval (from 6 to 10) is above zero, it indicates that the drug likely has a beneficial effect.\n",
    "- Because the confidence interval does not overlap with zero, the researchers can reject the null hypothesis (which states that the drug has no effect)."
   ]
  },
  {
   "cell_type": "markdown",
   "id": "e38a9b2d",
   "metadata": {},
   "source": [
    "Question #8: VACCINE DATA ANALYSIS REPORT:"
   ]
  },
  {
   "cell_type": "markdown",
   "id": "ad8f250a",
   "metadata": {},
   "source": [
    "Problem Introduction\n",
    "- The effectiveness of a new vaccine developed by AliTech is under evaluation. The goal of this analysis is to determine whether the vaccine significantly improves health scores among participants after vaccination compared to their initial health scores. This analysis utilizes a dataset containing health scores before and after vaccination to provide evidence for the vaccine's effectiveness."
   ]
  },
  {
   "cell_type": "markdown",
   "id": "4632f4c8",
   "metadata": {},
   "source": [
    "To visualize the comparison of health scores before and after vaccination, we can create a box plot. This plot will help illustrate the distribution of initial and final health scores, allowing us to identify any trends or significant differences between the two groups. Observing the shift in medians and spread provides insight into the vaccine's effectiveness:"
   ]
  },
  {
   "cell_type": "code",
   "execution_count": 16,
   "id": "d7b6a39a",
   "metadata": {},
   "outputs": [
    {
     "name": "stdout",
     "output_type": "stream",
     "text": [
      "   PatientID  Age Gender  InitialHealthScore  FinalHealthScore\n",
      "0          1   45      M                  84                86\n",
      "1          2   34      F                  78                86\n",
      "2          3   29      M                  83                80\n",
      "3          4   52      F                  81                86\n",
      "4          5   37      M                  81                84\n"
     ]
    },
    {
     "data": {
      "image/png": "[encoded data removed]",
      "text/plain": [
       "<Figure size 1000x600 with 1 Axes>"
      ]
     },
     "metadata": {},
     "output_type": "display_data"
    }
   ],
   "source": [
    "import pandas as pd\n",
    "import matplotlib.pyplot as plt\n",
    "\n",
    "#The CSV file, `vaccine_data.csv`, can be generated using the following code:\n",
    "\n",
    "# Sample data as provided\n",
    "data = {\n",
    "    'PatientID': [1, 2, 3, 4, 5, 6, 7, 8, 9, 10],\n",
    "    'Age': [45, 34, 29, 52, 37, 41, 33, 48, 26, 39],\n",
    "    'Gender': ['M', 'F', 'M', 'F', 'M', 'F', 'M', 'F', 'M', 'F'],\n",
    "    'InitialHealthScore': [84, 78, 83, 81, 81, 80, 79, 85, 76, 83],\n",
    "    'FinalHealthScore': [86, 86, 80, 86, 84, 86, 86, 82, 83, 84]\n",
    "}\n",
    "\n",
    "# Create DataFrame\n",
    "df = pd.DataFrame(data)\n",
    "\n",
    "# Save DataFrame to CSV\n",
    "df.to_csv('vaccine_data.csv', index=False)\n",
    "\n",
    "# Read the data from the CSV file\n",
    "df = pd.read_csv('vaccine_data.csv')\n",
    "\n",
    "# Display the first few rows of the DataFrame\n",
    "print(df.head())\n",
    "\n",
    "# Plotting the box plot\n",
    "plt.figure(figsize=(10, 6))\n",
    "plt.boxplot([df['InitialHealthScore'], df['FinalHealthScore']], labels=['Initial Health Score', 'Final Health Score'])\n",
    "plt.title('Comparison of Health Scores Before and After Vaccination')\n",
    "plt.ylabel('Health Score')\n",
    "plt.grid(axis='y')\n",
    "plt.show()"
   ]
  },
  {
   "cell_type": "markdown",
   "id": "2737cbd4",
   "metadata": {},
   "source": [
    "To conduct a quantitative analysis of the vaccine data, I'll focus on calculating key statistics that provide insights into the differences between the initial and final health scores:\n",
    "- Descriptive Statistics: Provides an overview of the initial and final health scores.\n",
    "- Mean Difference: Indicates the average change in health scores after vaccination.\n",
    "- Hypothesis Testing: Helps determine if the observed mean difference is statistically significant.\n",
    "- Confidence Intervals: Offers a range within which we can be confident that the true mean difference lies."
   ]
  },
  {
   "cell_type": "code",
   "execution_count": 15,
   "id": "25c3d69d",
   "metadata": {},
   "outputs": [
    {
     "name": "stdout",
     "output_type": "stream",
     "text": [
      "Descriptive Statistics for Initial Health Scores:\n",
      "count    10.000000\n",
      "mean     81.000000\n",
      "std       2.828427\n",
      "min      76.000000\n",
      "25%      79.250000\n",
      "50%      81.000000\n",
      "75%      83.000000\n",
      "max      85.000000\n",
      "Name: InitialHealthScore, dtype: float64\n",
      "\n",
      "Descriptive Statistics for Final Health Scores:\n",
      "count    10.000000\n",
      "mean     84.300000\n",
      "std       2.110819\n",
      "min      80.000000\n",
      "25%      83.250000\n",
      "50%      85.000000\n",
      "75%      86.000000\n",
      "max      86.000000\n",
      "Name: FinalHealthScore, dtype: float64\n",
      "Mean Health Score Difference: 3.30\n",
      "T-statistic: 2.59\n",
      "P-value: 0.0292\n",
      "95% Confidence Interval for Mean Difference: [0.42, 6.18]\n"
     ]
    }
   ],
   "source": [
    "import pandas as pd\n",
    "from scipy import stats\n",
    "\n",
    "# Read the data\n",
    "df = pd.read_csv('vaccine_data.csv')\n",
    "\n",
    "# Descriptive statistics\n",
    "initial_stats = df['InitialHealthScore'].describe()\n",
    "final_stats = df['FinalHealthScore'].describe()\n",
    "\n",
    "print(\"Descriptive Statistics for Initial Health Scores:\")\n",
    "print(initial_stats)\n",
    "print(\"\\nDescriptive Statistics for Final Health Scores:\")\n",
    "print(final_stats)\n",
    "\n",
    "# Calculate the mean difference\n",
    "df['HealthScoreDifference'] = df['FinalHealthScore'] - df['InitialHealthScore']\n",
    "mean_difference = df['HealthScoreDifference'].mean()\n",
    "print(f'Mean Health Score Difference: {mean_difference:.2f}')\n",
    "\n",
    "# Perform a one-sample t-test\n",
    "t_statistic, p_value = stats.ttest_1samp(df['HealthScoreDifference'], 0)\n",
    "print(f'T-statistic: {t_statistic:.2f}')\n",
    "print(f'P-value: {p_value:.4f}')\n",
    "\n",
    "# Calculate the 95% confidence interval\n",
    "confidence_level = 0.95\n",
    "degrees_freedom = len(df) - 1\n",
    "confidence_interval = stats.t.ppf((1 + confidence_level) / 2, degrees_freedom)\n",
    "margin_of_error = confidence_interval * (df['HealthScoreDifference'].std() / (len(df) ** 0.5))\n",
    "\n",
    "lower_bound = mean_difference - margin_of_error\n",
    "upper_bound = mean_difference + margin_of_error\n",
    "print(f'95% Confidence Interval for Mean Difference: [{lower_bound:.2f}, {upper_bound:.2f}]')"
   ]
  },
  {
   "cell_type": "markdown",
   "id": "911b0528",
   "metadata": {},
   "source": [
    "Performing the BOOTSTRAPPING method to analyze the effectiveness of the vaccine by calculating the mean difference in health scores:"
   ]
  },
  {
   "cell_type": "code",
   "execution_count": 13,
   "id": "92402893",
   "metadata": {},
   "outputs": [
    {
     "name": "stdout",
     "output_type": "stream",
     "text": [
      "Mean Difference: 3.3\n",
      "95% Confidence Interval: [0.9, 5.6]\n"
     ]
    }
   ],
   "source": [
    "import numpy as np\n",
    "\n",
    "# Calculate the difference in health scores\n",
    "df['HealthScoreDifference'] = df['FinalHealthScore'] - df['InitialHealthScore']\n",
    "\n",
    "# Bootstrapping\n",
    "n_iterations = 10000\n",
    "bootstrapped_means = []\n",
    "for _ in range(n_iterations):\n",
    "    sample = np.random.choice(df['HealthScoreDifference'], size=len(df), replace=True)\n",
    "    bootstrapped_means.append(np.mean(sample))\n",
    "\n",
    "# Calculate confidence interval\n",
    "lower_bound = np.percentile(bootstrapped_means, 2.5)\n",
    "upper_bound = np.percentile(bootstrapped_means, 97.5)\n",
    "mean_difference = np.mean(df['HealthScoreDifference'])\n",
    "\n",
    "print(f'Mean Difference: {mean_difference}')\n",
    "print(f'95% Confidence Interval: [{lower_bound}, {upper_bound}]')"
   ]
  },
  {
   "cell_type": "markdown",
   "id": "788f695d",
   "metadata": {},
   "source": [
    "Supporting Visualization:\n",
    "- A histogram of the health score differences provides a visual representation of how the differences in health scores (Final Health Score - Initial Health Score) are distributed among the participants."
   ]
  },
  {
   "cell_type": "code",
   "execution_count": 14,
   "id": "88650435",
   "metadata": {},
   "outputs": [
    {
     "data": {
      "image/png": "[encoded data removed]",
      "text/plain": [
       "<Figure size 1000x600 with 1 Axes>"
      ]
     },
     "metadata": {},
     "output_type": "display_data"
    }
   ],
   "source": [
    "# Histogram of Health Score Differences\n",
    "plt.figure(figsize=(10, 6))\n",
    "plt.hist(df['HealthScoreDifference'], bins=5, edgecolor='black')\n",
    "plt.title('Distribution of Health Score Differences')\n",
    "plt.xlabel('Health Score Difference')\n",
    "plt.ylabel('Frequency')\n",
    "plt.grid(axis='y')\n",
    "plt.show()"
   ]
  },
  {
   "cell_type": "markdown",
   "id": "c6ba3216",
   "metadata": {},
   "source": [
    "Findings and Discussion\n",
    "- The bootstrapping analysis revealed a mean difference in health scores, indicating a positive change. The calculated 95% confidence interval did not include zero, suggesting that the vaccine significantly improved health scores among participants.\n",
    "\n",
    "Conclusion regarding a Null Hypothesis of \"no effect\"\n",
    "- Based on the analysis, we reject the Null Hypothesis as the evidence suggests that the vaccine has a significant effect on improving health scores. This finding supports the effectiveness of the vaccine developed by AliTech.\n",
    "\n",
    "Further Considerations\n",
    "- Future studies could include a larger sample size and a control group to strengthen the findings. It may also be beneficial to analyze the effects across different age and gender demographics to identify any variability in vaccine effectiveness."
   ]
  },
  {
   "cell_type": "markdown",
   "id": "aaeae3cd",
   "metadata": {},
   "source": [
    "Link interactive conversation with ChatGPT: https://chatgpt.com/share/66fb5f90-c05c-8002-977b-2cac2c6da881\n",
    "\n",
    "Summary of Conversation with ChatGPT:\n",
    "- Assignment Overview: You discussed your Vaccine Data Analysis assignment on the effectiveness of a new vaccine from AliTech, which includes data visualization and a null hypothesis.\n",
    "- CSV File Creation: You were instructed to create a CSV file for the dataset and read it into your code without including the file in your submission.\n",
    "- Code Implementation: You successfully ran the code to read the CSV and plot a boxplot comparing health scores.\n",
    "- Data Visualization Inquiry: You inquired about the meaning of a histogram, and I explained its purpose in showing the distribution of health scores.\n",
    "- Quantitative Analysis: You requested help with quantitative analysis, and I provided methods like calculating means and standard deviations.\n",
    "- CSV Submission Clarification: You asked how your instructor would access the CSV file, and I explained they could recreate it from your code.\n",
    "- Documentation Suggestions: I advised adding documentation in your notebook to help the instructor understand the dataset creation process."
   ]
  },
  {
   "cell_type": "markdown",
   "id": "dd62f8e1",
   "metadata": {},
   "source": [
    "Question #9: Yes"
   ]
  }
 ],
 "metadata": {
  "kernelspec": {
   "display_name": "Python 3 (ipykernel)",
   "language": "python",
   "name": "python3"
  },
  "language_info": {
   "codemirror_mode": {
    "name": "ipython",
    "version": 3
   },
   "file_extension": ".py",
   "mimetype": "text/x-python",
   "name": "python",
   "nbconvert_exporter": "python",
   "pygments_lexer": "ipython3",
   "version": "3.11.6"
  }
 },
 "nbformat": 4,
 "nbformat_minor": 5
}
