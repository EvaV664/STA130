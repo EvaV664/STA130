{
 "cells": [
  {
   "cell_type": "markdown",
   "id": "3f977156",
   "metadata": {},
   "source": [
    "STA130 Project Proposal - Eva Verkhovsky\n",
    "\n",
    "ANALYSIS 1: (LONELINESS LEVELS BY RELATIONSHIP TYPE)\n",
    "Research question: How do levels of interaction with different social groups (such as family, friends, coworkers, and neighbors) affect an individual's experience of loneliness?\n",
    "- Potential Studies Based on the Canadian Social Connection Survey:\n",
    "    - Population Parameter: Estimate the average loneliness score of Canadians. Calculate the average number of close friends and explore variations by demographics. Association: Examine the link between social interaction frequency and loneliness. Investigate how age influences social interaction types, frequency, and well-being correlation.\n",
    "- The variables I plan to explore:\n",
    "    1. Loneliness Score: Understanding this score is crucial for assessing mental health and well-being, particularly in relation to social connections.\n",
    "    2. Frequency of Social Interactions: This variable captures how often participants engage with various groups (such as family, friends). It is vital for understanding the nature of social engagement and its relationship to loneliness. I will explore correlations between the frequency of these interactions and loneliness scores to identify trends.\n",
    "- Plots/visualizations that I will create:\n",
    "    1. Histograms: Histograms of loneliness scores and social interaction frequency will reveal distributions, highlighting patterns like skewness or multimodality in these variables.\n",
    "    2. Scatter Plots: Scatter plots will illustrate the relationship between interaction frequency and loneliness scores, helping visualize correlations and potential linear relationships between these variables.\n",
    "- Description of the Analysis Method - Simple Linear Regression Analysis:\n",
    "    - I will choose one type of interaction as the independent variable and loneliness score as the dependent variable. I will fit a simple linear regression model: loneliness score =  β₀ + β₁(interaction) + ε. I will interpret the coefficient to understand the relationship between family interaction and loneliness.\n",
    "    - Relevant Assumptions - independence of observations, linearity, homoscedasticity, normality of residuals\n",
    "- Hypothesis: Increased interaction with family is associated with lower levels of loneliness among individuals.\n",
    "    - The results will help clarify whether the type of social interaction impacts feelings of loneliness. If the hypothesis is supported, it will indicate that family interactions play a crucial role in reducing loneliness.\n",
    "\n",
    "ANALYSIS 2: (STRESS REDUCTION AND SOCIAL INTERACTIONS)\n",
    "Research question: How do different types of social interactions (e.g., interactions with family, friends, coworkers, and neighbors) impact levels of perceived stress among individuals?\n",
    "- Potential Studies Based on the Canadian Social Connection Survey:\n",
    "    1. Population Parameter: Estimate the average stress level of Canadians aged 16 and older based on social interaction patterns.\n",
    "    2. Associations to Explore: Examine how interaction type and frequency correlate with stress levels and loneliness to identify stress reduction factors.\n",
    "- The variables I plan to explore:\n",
    "    1. Type of Social Interaction: Different types of social interactions may impact stress differently. Using summary statistics, I’ll compare stress levels across these groups to find which types are linked to lower stress.\n",
    "    2. Perceived Stress Levels: Self-reported stress levels directly measure participants' experiences, allowing us to assess social factors' impact on well-being. Summary statistics will establish a baseline for stress distribution.\n",
    "- Plots/visualizations that I will create:\n",
    "    1. Box Plots for Perceived Stress Levels by Interaction Type: Box plots summarize stress levels across interaction types, revealing median differences and outliers, helping compare stress impacts by interaction source.\n",
    "    2. Summary statistics for each variable provide an overview of trends and variations in stress and social interactions.\n",
    "- Description of the Analysis Method: Bootstrapping\n",
    "    - I will create 1,000 resamples of the data with replacement, calculating the mean stress level for each. From these, I’ll derive 95% confidence intervals for each social interaction type and use these intervals and p-values to assess significance for stress reduction and social interactions.\n",
    "    - Assumes the independence of samples.\n",
    "- Hypothesis: Individuals who engage in more frequent social interactions, particularly with friends and family, will report lower stress levels compared to those who primarily interact with coworkers or neighbors.\n",
    "    - The analysis will likely show that people with more family and friend interactions report lower stress than those engaging mainly with coworkers or neighbors. Bootstrapped confidence intervals may underscore that close relationships reduce stress more effectively.\n",
    "\n",
    "ANALYSIS 3: (SLEEP QUALITY AND SOCIAL ENGAGEMENT)\n",
    "Research Question: Do individuals with higher levels of social support report better sleep quality compared to those with lower levels of social engagement?\n",
    "- Potential Studies Based on the Canadian Social Connection Survey:\n",
    "    1. Population Parameter to Estimate: The average sleep quality score of individuals with varying levels of social engagement .\n",
    "    2. Associations: Explore the relationship between the frequency and quality of social interactions and reported sleep quality.\n",
    "- The variables I plan to explore:\n",
    "    1. Sleep Quality: Measured by self-reported scores (1-10) to reflect health and well-being. I will analyze these scores using summary statistics (mean, median, range) to identify overall trends.\n",
    "    2. Social Engagement: A categorical variable indicating levels of engagement based on interaction frequency with family, friends, and coworkers.\n",
    "- Plots/visualizations that I will create:\n",
    "    - Boxplots: To visualize the distribution of sleep quality scores across different categories of social engagement. Boxplots effectively display median, quartiles, and potential outliers, allowing for quick comparisons of sleep quality between groups.\n",
    "- Description of the Analysis Method: Correlation analysis\n",
    "    - By determining whether higher levels of social engagement correlate with better sleep quality, I can gain insights into how these two factors interact. I will analyze the correlation between Sleep Quality (1-10 scale) and Social Engagement (frequency of interactions) to determine if higher social engagement improves sleep quality.\n",
    "    - Assumptions: Each observation should be independent of others.\n",
    "- Hypothesis: Higher social engagement is positively correlated with better sleep quality, meaning those with more social interactions report improved sleep.\n",
    "    - I expect a positive correlation between social engagement and sleep quality, indicating that more interactions lead to better sleep. This would support the idea that strengthening social connections improves well-being, especially post-pandemic."
   ]
  }
 ],
 "metadata": {
  "kernelspec": {
   "display_name": "Python 3 (ipykernel)",
   "language": "python",
   "name": "python3"
  },
  "language_info": {
   "codemirror_mode": {
    "name": "ipython",
    "version": 3
   },
   "file_extension": ".py",
   "mimetype": "text/x-python",
   "name": "python",
   "nbconvert_exporter": "python",
   "pygments_lexer": "ipython3",
   "version": "3.11.6"
  }
 },
 "nbformat": 4,
 "nbformat_minor": 5
}
