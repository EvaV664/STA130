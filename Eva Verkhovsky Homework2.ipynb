{
 "cells": [
  {
   "cell_type": "markdown",
   "id": "eaed608c",
   "metadata": {},
   "source": [
    "Question #1:"
   ]
  },
  {
   "cell_type": "markdown",
   "id": "8b313a77",
   "metadata": {},
   "source": [
    "Initialization:\n",
    "- all_door_options represents the three doors.\n",
    "- my_door_choice is the door I initially pick.\n",
    "- i_won keeps track of the number of times I win by switching.\n",
    "- reps is the number of simulations.\n",
    "\n",
    "Simulation Loop:\n",
    "- secret_winning_door is randomly chosen as the door with the car.\n",
    "- all_door_options_list is created to manipulate door options.\n",
    "- The secret winning door is removed from the list of doors to show a losing door.\n",
    "- A losing door (a goat) is randomly revealed by Monty.\n",
    "- If my initial choice was not the winning door, the winning door is added back to the list of remaining doors.\n",
    "- The remaining door is my new choice (switch strategy).\n",
    "- Check if this new choice is the winning door and update i_won.\n",
    "\n",
    "Calculate Probability:\n",
    "- At the end of the simulations, the probability of winning by switching is estimated as i_won/reps"
   ]
  },
  {
   "cell_type": "markdown",
   "id": "e4be686a",
   "metadata": {},
   "source": [
    "Question #2:"
   ]
  },
  {
   "cell_type": "markdown",
   "id": "599511fe",
   "metadata": {},
   "source": [
    "Preference for Readability and Explainability:\n",
    "- Improved Code:\n",
    "    - Clearer and more concise logic flow.\n",
    "    - Easier to understand and follow.\n",
    "    - Simplifies the Monty Hall simulation.\n",
    "- Original Code:\n",
    "    - More detailed but complex.\n",
    "    - Harder to grasp for those unfamiliar with the problem.\n",
    "\n",
    "Summary: The improved code is preferred for its straightforward approach and enhanced clarity, making it more accessible and easier to understand the Monty Hall problem compared to the original, more complex version."
   ]
  },
  {
   "cell_type": "markdown",
   "id": "f89a8a43",
   "metadata": {},
   "source": [
    "Question #3:"
   ]
  },
  {
   "cell_type": "code",
   "execution_count": 3,
   "id": "5a36e442",
   "metadata": {},
   "outputs": [
    {
     "name": "stdout",
     "output_type": "stream",
     "text": [
      "Probability of winning by switching: 0.6682\n"
     ]
    }
   ],
   "source": [
    "import numpy as np\n",
    "\n",
    "# Parameters\n",
    "num_simulations = 100000\n",
    "\n",
    "# Initialize counters\n",
    "wins_with_switching = 0\n",
    "\n",
    "for _ in range(num_simulations):\n",
    "    # Doors are numbered 0, 1, 2\n",
    "    doors = [0, 1, 2]\n",
    "    \n",
    "    # Randomly select the door with the car and the initial choice\n",
    "    car_door = np.random.choice(doors)\n",
    "    initial_choice = np.random.choice(doors)\n",
    "    \n",
    "    # Creates a new list called remaining_doors by iterating over the doors list and including only those doors that are not equal to initial_choice\n",
    "    remaining_doors = [door for door in doors if door != initial_choice]\n",
    "    \n",
    "    # Monty reveals a door with a goat\n",
    "    revealed_door = np.random.choice([door for door in remaining_doors if door != car_door])\n",
    "    \n",
    "    # Determine the door to switch to\n",
    "    switch_door = next(door for door in remaining_doors if door != revealed_door)\n",
    "    \n",
    "    # Check if switching results in a win\n",
    "    if switch_door == car_door:\n",
    "        wins_with_switching += 1\n",
    "\n",
    "# Calculate the probability of winning by switching:\n",
    "    #f\"Probability of winning by switching: {probability_of_winning:.4f}\" is an f-string that formats the output message.\n",
    "    #:.4f formats the probability_of_winning value to four decimal places.\n",
    "probability_of_winning = wins_with_switching / num_simulations\n",
    "print(f\"Probability of winning by switching: {probability_of_winning:.4f}\")"
   ]
  },
  {
   "cell_type": "markdown",
   "id": "3db7571b",
   "metadata": {},
   "source": [
    "Link to interactive conversation with ChatGPT: https://chatgpt.com/share/66ea00e1-184c-8002-81df-e86e5211f555\n",
    "\n",
    "Summary:\n",
    "- Explanation of the Monty Hall Problem: The Monty Hall problem is a probability puzzle where you choose one of three doors, behind one of which is a car and behind the others are goats. After your choice, the host reveals a goat behind one of the other two doors, and you have the option to switch to the remaining door. The probability of winning if you switch is 2/3, while sticking with the original choice gives a 1/3 chance.\n",
    "\n",
    "- Original Code Review: The original code simulates the Monty Hall problem but is complex due to handling door removals and re-adding doors. It uses a try-except block to manage door lists, which can be less intuitive and cluttered.\n",
    "\n",
    "- Improved Code: A streamlined version of the simulation is provided, which simplifies the process using list comprehensions and direct operations. This version improves readability and makes the logical flow clearer."
   ]
  },
  {
   "cell_type": "markdown",
   "id": "2f340de3",
   "metadata": {},
   "source": [
    "Question #4:"
   ]
  },
  {
   "cell_type": "markdown",
   "id": "bff3f324",
   "metadata": {},
   "source": [
    "Basic Markovian Chatbot\n",
    "\n",
    "- Initialization:\n",
    "    - word_used: Keeps track of how many times each word has been used.\n",
    "    - next_word: Stores the frequency of each word following another word.\n",
    "- Building the Model:\n",
    "    - For each pair of consecutive words in words, it updates word_used and next_word to reflect how often each word follows another."
   ]
  },
  {
   "cell_type": "markdown",
   "id": "46861af3",
   "metadata": {},
   "source": [
    "Link to interactive conversation with ChatGPT: https://chatgpt.com/share/66ea0a53-b188-8002-9ea2-c29b7aefa8b5\n",
    "\n",
    "Summary:\n",
    "- Markovian Chatbot Code:\n",
    "    - Basic Model:\n",
    "        - The code initializes two dictionaries, word_used and next_word.\n",
    "        - word_used counts the occurrences of each word in the text.\n",
    "        - next_word tracks the frequency of each word following another word.\n",
    "        - For each pair of consecutive words, word_used is updated to reflect the count of each word, and next_word is updated to reflect how often each word follows the previous one."
   ]
  },
  {
   "cell_type": "markdown",
   "id": "3d23f444",
   "metadata": {},
   "source": [
    "Question #5:"
   ]
  },
  {
   "cell_type": "markdown",
   "id": "4a6482f3",
   "metadata": {},
   "source": [
    "1. characters: This counts occurrences of character names from the dataset.\n",
    "    - Key: A string representing a character's name (e.g., \"JANE DOE:\").\n",
    "    - Value: The count of how often this character appears.\n",
    "    \n",
    "2. word_used2C: This dictionary tracks the frequency of bigrams for each character.\n",
    "    - Key: A character’s name.\n",
    "    - Value: A nested dictionary where:\n",
    "        - Key: A bigram (e.g., \"hello world\").\n",
    "        - Value: The count of this bigram within the context of the character.\n",
    "        \n",
    "3. next_word2C: This dictionary tracks the frequency of words that follow each bigram for each character.\n",
    "    - Key: A character’s name.\n",
    "    - Value: A nested dictionary where:\n",
    "        - Key: A bigram (e.g., \"hello world\").\n",
    "        - Value: Another nested dictionary where:\n",
    "            - Key: The next word (e.g., \"again\").\n",
    "            - Value: The count of how often this next word follows the bigram within the character’s context.\n",
    "Usage:\n",
    "- Extension #1: Suitable for a basic chatbot model where predictions are based on the last word or bigram.\n",
    "- Extension #2: Useful when you want to condition responses based on specific characters or contexts from a dataset."
   ]
  },
  {
   "cell_type": "markdown",
   "id": "31c78be2",
   "metadata": {},
   "source": [
    "Link to FIRST interactive conversation with ChatGPT: https://chatgpt.com/share/66ea0a53-b188-8002-9ea2-c29b7aefa8b5\n",
    "\n",
    "Link to SECOND interactive conversation with ChatGPT: https://chatgpt.com/share/66ea0dec-1fc4-8002-83c1-33271e1594c0"
   ]
  },
  {
   "cell_type": "markdown",
   "id": "4b488410",
   "metadata": {},
   "source": [
    "Question #6:"
   ]
  },
  {
   "cell_type": "markdown",
   "id": "b6e7b14a",
   "metadata": {},
   "source": [
    "1. Discuss how quickly the ChatBot was able to be helpful for each of the above questions, and if so, how?\n",
    "\n",
    "The chatbot was incredibly helpful. It provided a detailed explanation of each component of the Monty Hall problem and the Markovian chatbot, offering numerous examples to illustrate the concepts. When I had difficulty understanding something and asked for clarification, the chatbot responded clearly, which helped me grasp the concepts.\n",
    "\n",
    "2. Discuss whether or not interacting with ChatBot to try to figure things out was frustrating or unhelpful, and if so, how?\n",
    "\n",
    "The chatbot provided clear, detailed explanations and numerous examples, which made complex topics like the Monty Hall problem and the Markovian chatbot easier to understand.\n",
    "\n",
    "3. Based on your experiences to date (e.g., including using ChatBots to troubleshoot coding errors in the previous homework), provide an overall assessment evaluating the usefulness of ChatBots as tools to help you understand code\n",
    "\n",
    "ChatBots are highly effective for understanding code. They offer clear explanations and examples, breaking down complex concepts into simpler parts. They provide immediate help with troubleshooting and are available anytime, making learning flexible and efficient. Overall, ChatBots support both learning and problem-solving, making them valuable tools for coding."
   ]
  },
  {
   "cell_type": "markdown",
   "id": "f3ff3772",
   "metadata": {},
   "source": [
    "Question #7:"
   ]
  },
  {
   "cell_type": "markdown",
   "id": "0ca7f7f2",
   "metadata": {},
   "source": [
    "My experience with ChatBots has evolved significantly. While I initially saw them as helpful, I've discovered that they make understanding complex topics much easier. Whenever I struggled with coding, statistics, or data science concepts, the ChatBot's clear explanations and examples quickly resolved my confusion. This has changed my view of AI tools from being just helpful aids to essential parts of my learning process."
   ]
  },
  {
   "cell_type": "markdown",
   "id": "90be772a",
   "metadata": {},
   "source": [
    "Question #8:"
   ]
  },
  {
   "cell_type": "markdown",
   "id": "5837f26c",
   "metadata": {},
   "source": [
    "1. Discuss the relevance of learning and adaptability, communication, coding, and statistics and data analysis as skills in the modern world, especially with respect to career opportunities\n",
    "\n",
    "    - Learning and Adaptability: Essential for keeping up with rapid changes in technology and industry standards. In data science, it means staying current with new tools and methods.\n",
    "    - Communication: Vital for explaining complex data insights to non-technical stakeholders and collaborating with team members.\n",
    "    - Coding: Central to data science for tasks like data manipulation, building models, and automating processes. Key languages include Python, R, and SQL.\n",
    "    - Statistics and Data Analysis: Fundamental for interpreting data, identifying trends, and making predictions. Essential for designing experiments and ensuring valid results.\n",
    "    - Career Opportunities: Data scientists are in high demand across industries. Skills in learning, communication, coding, and data analysis are crucial for success in this field.\n",
    "    \n",
    "2. Chatbot answer: \"It's unlikely you could be effective as a statistician or data scientist without coding or data analysis skills. Coding is essential for handling data, automating tasks, and implementing algorithms. Data analysis is fundamental for interpreting data and deriving insights.\"\n",
    "    - Here are the key skills for data science:\n",
    "        - Coding: Python, R, SQL\n",
    "        - Statistical Analysis: Interpreting data\n",
    "        - Data Visualization: Creating charts and graphs\n",
    "        - Machine Learning: Building predictive models\n",
    "        - Data Cleaning: Preparing data\n",
    "        - Communication: Explaining insights\n",
    "        - Business Acumen: Understanding industry needs\n",
    "        \n",
    "3. Summary: In this session, we discussed the essential skills for a career in data science, including coding (Python, R, SQL), statistical analysis, data visualization, machine learning, data cleaning, communication, and business acumen. These skills are crucial for analyzing data and making informed decisions in the field.\n",
    "\n",
    "4. I realize that a successful career in data science hinges on several critical skills: coding in Python, R, and SQL, mastering statistical analysis, creating effective data visualizations, and understanding machine learning principles. Additionally, data cleaning, strong communication skills, and business acumen are essential for interpreting and presenting data insights effectively.\n",
    "    - To build these skills, I plan to focus on the following steps:\n",
    "        - Enhance Coding Skills: Practice programming through projects and online courses.\n",
    "        - Deepen Statistical Knowledge: Study statistical methods and apply them to real datasets.\n",
    "        - Develop Visualization Abilities: Learn tools and techniques for creating impactful visualizations.\n",
    "        - Explore Machine Learning: Experiment with machine learning models and algorithms.\n",
    "        - Improve Data Cleaning Techniques: Work on projects that involve preparing and cleaning data.\n",
    "        - Strengthen Communication Skills: Practice explaining complex data findings clearly.\n",
    "        - Gain Business Insight: Understand industry-specific challenges and how data can address them.\n",
    "        - By actively working on these areas, I can better prepare for a future in data science and effectively leverage data to drive decision-making.\n",
    "        \n",
    "4. Helpfulness and Limitations: The ChatBot provided a good overview of data science skills but lacked detailed, expert-level insights.\n",
    "    - Next Steps:\n",
    "        - Connect with Experts: Network with professionals for deeper insights.\n",
    "        - Take Specialized Courses: Enroll in advanced training.\n",
    "        - Join Professional Groups: Engage with data science communities.\n",
    "        - Work on Projects: Gain hands-on experience.\n",
    "        - Read Industry Literature: Explore books and research papers.\n",
    "        \n",
    "        ***These steps will help gain more detailed knowledge and practical experience in data science."
   ]
  },
  {
   "cell_type": "markdown",
   "id": "dca6f35e",
   "metadata": {},
   "source": [
    "Question #9: Yes"
   ]
  }
 ],
 "metadata": {
  "kernelspec": {
   "display_name": "Python 3 (ipykernel)",
   "language": "python",
   "name": "python3"
  },
  "language_info": {
   "codemirror_mode": {
    "name": "ipython",
    "version": 3
   },
   "file_extension": ".py",
   "mimetype": "text/x-python",
   "name": "python",
   "nbconvert_exporter": "python",
   "pygments_lexer": "ipython3",
   "version": "3.11.6"
  }
 },
 "nbformat": 4,
 "nbformat_minor": 5
}
